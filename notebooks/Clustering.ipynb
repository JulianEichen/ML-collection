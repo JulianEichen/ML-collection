{
 "cells": [
  {
   "cell_type": "code",
   "execution_count": 1,
   "metadata": {},
   "outputs": [],
   "source": [
    "import numpy as np\n",
    "import pylab\n",
    "import random"
   ]
  },
  {
   "cell_type": "markdown",
   "metadata": {},
   "source": [
    "# k-means Clustering\n",
    "\n",
    "This notebook is an implementation of the k-means clustering algorithm."
   ]
  },
  {
   "cell_type": "markdown",
   "metadata": {},
   "source": [
    "### Preparation"
   ]
  },
  {
   "cell_type": "markdown",
   "metadata": {},
   "source": [
    "This cell contains the definition of a data point, combining an identifying name with a feature vector. Obviously, if we cannot identify the data points in the end result, the algorithm will be of no use for classification, so this class needs to be used as an input to the clusters.\n",
    "\n",
    "I've added some magic methods to make the class hopefully interoperable with normal lists, which will be cool when calculating the metrics."
   ]
  },
  {
   "cell_type": "code",
   "execution_count": 2,
   "metadata": {},
   "outputs": [],
   "source": [
    "class DataPoint:\n",
    "    def __init__( self, name, features, label = None ):\n",
    "        \"\"\"\n",
    "        Creates a data point with a (uniquely) identifying name, and optionally a user-readable label\n",
    "        \"\"\"\n",
    "        # name is read-only\n",
    "        self._name = name\n",
    "        # the feature vector is readonly\n",
    "        self._features = features\n",
    "        # the label is for user convenience, it can be changed at any time.\n",
    "        self.label = label\n",
    "    \n",
    "    @property\n",
    "    def name(self):\n",
    "        return self._name\n",
    "    \n",
    "    @property\n",
    "    def features(self):\n",
    "        return self._features[:]\n",
    "    \n",
    "    def __eq__(self, other):\n",
    "        return np.all(self._features == other.features)\n",
    "    \n",
    "    # I swear, it turns itself into a list-like data structure\n",
    "    # Funniest shit I've ever seen\n",
    "    def __len__(self):\n",
    "        return len(self._features)\n",
    "    def __getitem__(self,key):\n",
    "        return self._features[key]\n",
    "    def __iter__(self):\n",
    "        return iter(self._features)\n",
    "    \n",
    "    # User output convenience\n",
    "    def __repr__(self):\n",
    "        return f\"{self.name}\" + (f\" ({self.label})\" if self.label != None else \"\") \\\n",
    "            + f\": {str(self.features)}\"\n",
    "    def __str__(self):\n",
    "        return f\"Point {self.label if self.label != None else self.name} {str(self._features)}\""
   ]
  },
  {
   "cell_type": "markdown",
   "metadata": {},
   "source": [
    "These metrics can be used to calculate the distance between points in our feature space. Their input can be a `DataPoint` or just a list, and the result is a scalar.\n",
    "\n",
    "To motivate the Minkowski metric, consider the standard distance metric in $\\mathbb{R}^n$, the _Euclidean Metric_:\n",
    "$$dist(a,b)=|b-a|=\\sqrt[\\leftroot{4}\\uproot{4}2]{\\sum^n_{k=1} (b_k-a_k)^2}$$\n",
    "Note the exponents of $2$ in the square root and for each term of the sum. The _Minkowski Metric_ generalizes the formula, replacing these exponents with any positive integer $p$:\n",
    "$$dist_p(a,b)=\\sqrt[\\leftroot{4}\\uproot{4}p]{\\sum^n_{k=1} |b_k-a_k|^p}$$"
   ]
  },
  {
   "cell_type": "code",
   "execution_count": 3,
   "metadata": {},
   "outputs": [],
   "source": [
    "def minkowskiDist(v1,v2,p):\n",
    "    return sum(abs((a-b)**p) for a,b in zip(v1,v2))**(1/p)\n",
    "\n",
    "def euclideanDist(v1,v2):\n",
    "    return minkowskiDist(v1,v2,2)"
   ]
  },
  {
   "cell_type": "markdown",
   "metadata": {},
   "source": [
    "Next is the class defining a cluster, a collection of data points. When the cluster's sample list is changed, the centroid is automatically recalculated.\n",
    "\n",
    "On creating the clusters, a custom metric can be provided to calculate the distance from the centroid. The default is standard Euclidean Distance, but obviously any kind of metric on $\\mathbb{R}^n$ can be used."
   ]
  },
  {
   "cell_type": "code",
   "execution_count": 4,
   "metadata": {},
   "outputs": [],
   "source": [
    "class Cluster(object):\n",
    "    def __init__(self, samples, index=0, metric = euclideanDist):\n",
    "        self.index = index\n",
    "        self.metric = metric\n",
    "        self.samples = samples\n",
    "\n",
    "    def computeCentroid(self):\n",
    "        if len(self._samples) == 0:\n",
    "            return None\n",
    "        vals = sum(np.array(e.features) for e in self._samples)\n",
    "        return DataPoint('centroid', vals/len(self._samples))\n",
    "    \n",
    "    @property\n",
    "    def centroid(self):\n",
    "        return self._centroid\n",
    "    \n",
    "    @property\n",
    "    def variability(self):\n",
    "        return self._variability\n",
    "    \n",
    "    @property\n",
    "    def samples(self):\n",
    "        return self._samples[:]\n",
    "    \n",
    "    @samples.setter\n",
    "    def samples(self, samples):\n",
    "        self._samples = samples\n",
    "        self._centroid = self.computeCentroid()\n",
    "        self._variability = sum( (self.metric(e,self.centroid))**2 for e in self._samples )\n",
    "    \n",
    "    def __iter__(self):\n",
    "        return iter(self._samples)\n",
    "    \n",
    "    def __contains__(self, el):\n",
    "        return el in self._samples\n",
    "    \n",
    "    def __repr__(self):\n",
    "        return f'Cluster {self.index} (centroid={\"None\" if self.centroid is None else str(self.centroid.features)}, samples={str(self._samples)})'\n",
    "\n",
    "def dissimilarity(clusters):\n",
    "    return sum(c.variability for c in clusters)"
   ]
  },
  {
   "cell_type": "markdown",
   "metadata": {},
   "source": [
    "Next we have a simple function to apply clustering multiple times. Since the algorithm is nondeterministic, by collecting different results and choosing the best one the overall result can be improved."
   ]
  },
  {
   "cell_type": "code",
   "execution_count": 5,
   "metadata": {},
   "outputs": [],
   "source": [
    "def trykmeans(samples, numClusters, numTrials, metric = euclideanDist, verbose = False):\n",
    "    \"\"\"Calls kmeans numTrials times and returns the result with the\n",
    "       lowest dissimilarity\"\"\"\n",
    "    best = kmeans(samples, numClusters, metric=metric, verbose=verbose)\n",
    "    minDissimilarity = dissimilarity(best)\n",
    "    trial = 1\n",
    "    while trial < numTrials:\n",
    "        try:\n",
    "            clusters = kmeans(samples, numClusters, metric=metric, verbose=verbose)\n",
    "        except ValueError:\n",
    "            continue #If failed, try again\n",
    "        currDissimilarity = dissimilarity(clusters)\n",
    "        if currDissimilarity < minDissimilarity:\n",
    "            best = clusters\n",
    "            minDissimilarity = currDissimilarity\n",
    "        trial += 1\n",
    "    return best"
   ]
  },
  {
   "cell_type": "markdown",
   "metadata": {},
   "source": [
    "### The Algorithm"
   ]
  },
  {
   "cell_type": "markdown",
   "metadata": {},
   "source": [
    "The pseudocode description is as follows:\n",
    "```\n",
    "randomly choose k examples as initial centroids of clusters\n",
    "do this:\n",
    "  create k clusters by assigning each example to closest centroid\n",
    "  compute k new centroids by averaging the examples in each cluster (happens automatically)\n",
    "until none of the centroids differ from the previous iteration\n",
    "return the current set of clusters\n",
    "```"
   ]
  },
  {
   "cell_type": "markdown",
   "metadata": {},
   "source": [
    "This pseudocode is slightly modified from Guttag's version, to better reflect the loop structure used. A do-while loop is necessary, because the exit conditon depends on a value calculated _after_ each loop iteration. Since there is no do-while loop in Python, an exit variable is used which is set to true before the first iteration."
   ]
  },
  {
   "cell_type": "code",
   "execution_count": 6,
   "metadata": {},
   "outputs": [],
   "source": [
    "def kmeans(examples, k, metric = euclideanDist, verbose = False):\n",
    "    #Get k randomly chosen initial centroids, create cluster for each \n",
    "    initialCentroids = random.sample(examples, k)\n",
    "    clusters = [Cluster([e], i, metric) for i,e in enumerate(initialCentroids)]\n",
    "    \n",
    "    #Iterate until centroids do not change \n",
    "    converged = False\n",
    "    numIterations = 0\n",
    "    while not converged:\n",
    "        numIterations += 1\n",
    "\n",
    "        #Create a list containing k distinct empty lists \n",
    "        newClusters = [[] for i in range(k)]\n",
    "        \n",
    "        #Associate each example with closest centroid \n",
    "        for e in examples:\n",
    "            #Find the centroid closest to e\n",
    "            distances = [metric(e,c.centroid) for c in clusters]\n",
    "            index = np.argmin(distances)\n",
    "            #Add e to the list of examples for appropriate cluster \n",
    "            newClusters[index].append(e)\n",
    "        \n",
    "        #Avoid having empty clusters \n",
    "        if min(len(c) for c in newClusters) == 0:\n",
    "            raise ValueError('Empty Cluster')\n",
    "        \n",
    "        #Update each cluster; check if a centroid has changed \n",
    "        converged = True\n",
    "        for c, nc in zip(clusters,newClusters):\n",
    "            oldCentroid = c.centroid\n",
    "            c.samples = nc\n",
    "            if oldCentroid != c.centroid: \n",
    "                converged = False\n",
    "        \n",
    "        if verbose:\n",
    "            print('Iteration #' + str(numIterations)) \n",
    "            for c in clusters:\n",
    "                print(c)\n",
    "            print()\n",
    "    return clusters"
   ]
  },
  {
   "cell_type": "markdown",
   "metadata": {},
   "source": [
    "Don't mind the following code, it's just a quick way of checking if the algorithm works using Guttag's \"contrived example\"."
   ]
  },
  {
   "cell_type": "code",
   "execution_count": 7,
   "metadata": {},
   "outputs": [],
   "source": [
    "def genDistribution(xMean, xSD, yMean, ySD, n, namePrefix):\n",
    "    samples = []\n",
    "    for s in range(n):\n",
    "        x = random.gauss(xMean, xSD)\n",
    "        y = random.gauss(yMean, ySD)\n",
    "        samples.append(DataPoint(namePrefix+str(s), [x, y]))\n",
    "    return samples\n",
    "\n",
    "def plotSamples(samples, marker):\n",
    "    xVals, yVals = [], []\n",
    "    for s in samples:\n",
    "        x = s.features[0]\n",
    "        y = s.features[1]\n",
    "        pylab.annotate(s.name, xy = (x, y),xytext = (x+0.13, y-0.07),fontsize = 'x-large')\n",
    "        xVals.append(x)\n",
    "        yVals.append(y)\n",
    "    pylab.plot(xVals, yVals, marker)\n",
    "\n",
    "def contrivedTest(numTrials, verbose = False):\n",
    "    xMean = 3\n",
    "    xSD = 1\n",
    "    yMean = 5\n",
    "    ySD = 1\n",
    "    n = 10\n",
    "    d1Samples = genDistribution(xMean, xSD, yMean, ySD, n, 'A')\n",
    "    d2Samples = genDistribution(xMean+3, xSD, yMean+1, ySD, n, 'B')\n",
    "    clusters = trykmeans(d1Samples+d2Samples, 2, numTrials, verbose=verbose)\n",
    "    \n",
    "    d1c1 = [e for e in d1Samples if e in clusters[0]]\n",
    "    plotSamples(d1c1, 'r^')\n",
    "    d1c2 = [e for e in d1Samples if e in clusters[1]]\n",
    "    plotSamples(d1c2, 'b^')\n",
    "    d2c1 = [e for e in d2Samples if e in clusters[0]]\n",
    "    plotSamples(d2c1, 'ro')\n",
    "    d2c2 = [e for e in d2Samples if e in clusters[1]]\n",
    "    plotSamples(d2c2, 'bo')\n",
    "    \n",
    "    print('Final result')\n",
    "    for c in clusters:\n",
    "        print(c)\n",
    "        #print(f\"Cluster {c.index} (Centroid: {c.centroid.features})\")\n",
    "        #for e in c.samples:\n",
    "            #print(f\"  {e}\")"
   ]
  },
  {
   "cell_type": "code",
   "execution_count": 13,
   "metadata": {},
   "outputs": [
    {
     "name": "stdout",
     "output_type": "stream",
     "text": [
      "Final result\n",
      "Cluster 0 (centroid=[5.25308561 5.79606133], samples=[B0: [4.65812931505738, 6.90068006628167], B1: [6.101392252802213, 5.272486817244238], B2: [5.111662615830921, 7.029930964613001], B3: [4.986366518110136, 5.794806296109388], B4: [5.201886315347649, 5.296765419649458], B5: [6.481086655666044, 5.123233261642359], B6: [5.239657326884293, 5.492114718367312], B7: [4.0898019092596725, 5.971400029650074], B8: [5.145056188476868, 6.140957945264304], B9: [5.5158169825121774, 4.938237818236116]])\n",
      "Cluster 1 (centroid=[2.66487245 4.9286797 ], samples=[A0: [2.013531332851656, 4.250725333350857], A1: [3.388678952510263, 5.805408919719361], A2: [3.6952091864788734, 4.892012435086902], A3: [2.3690226229553244, 6.090951649041381], A4: [2.7932099585973993, 4.150124746081888], A5: [3.830059979988388, 5.083416211284128], A6: [3.5425146336250855, 3.8825947143453545], A7: [1.6848431292779336, 4.963033666267317], A8: [0.7306385787205714, 4.176620899766187], A9: [2.60101610603283, 5.9919084335996216]])\n"
     ]
    },
    {
     "data": {
      "image/png": "[encoded data removed]",
      "text/plain": [
       "<Figure size 432x288 with 1 Axes>"
      ]
     },
     "metadata": {
      "needs_background": "light"
     },
     "output_type": "display_data"
    }
   ],
   "source": [
    "contrivedTest(10, False)"
   ]
  }
 ],
 "metadata": {
  "kernelspec": {
   "display_name": "Python 3 (ipykernel)",
   "language": "python",
   "name": "python3"
  },
  "language_info": {
   "codemirror_mode": {
    "name": "ipython",
    "version": 3
   },
   "file_extension": ".py",
   "mimetype": "text/x-python",
   "name": "python",
   "nbconvert_exporter": "python",
   "pygments_lexer": "ipython3",
   "version": "3.10.6"
  }
 },
 "nbformat": 4,
 "nbformat_minor": 4
}
