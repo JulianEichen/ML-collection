{
 "cells": [
  {
   "cell_type": "markdown",
   "metadata": {},
   "source": [
    "# Carni Herbi Omni"
   ]
  },
  {
   "cell_type": "markdown",
   "metadata": {},
   "source": [
    "The following is basically just copy&paste of the code of the animal example in Guttag chapter23 p395. Therefore there isn't much explanation. \\\n",
    "Note: It is necessarry to have the dentalFormulas.txt and GTag.py files saved in the same folder as this notebook, or to adjust the code accordingly. dentalFormulas.txt is the dataset Guttag uses for the example and GTag.py is a collection of classes and functions that Guttag introduces before starting with the actual animal example. "
   ]
  },
  {
   "cell_type": "code",
   "execution_count": 62,
   "metadata": {},
   "outputs": [],
   "source": [
    "import numpy as np\n",
    "import pylab\n",
    "import random\n",
    "from GTag import *"
   ]
  },
  {
   "cell_type": "markdown",
   "metadata": {},
   "source": [
    "We want to store the data in a textfile and thus need a function to read such a file. It will store the information in 3 lists as features, labels and species names."
   ]
  },
  {
   "cell_type": "code",
   "execution_count": 83,
   "metadata": {},
   "outputs": [],
   "source": [
    "def readMammalData(fName):\n",
    "    dataFile = open(fName, 'r')\n",
    "    numFeatures = 0\n",
    "    #Process lines at top of file\n",
    "    for line in dataFile: #Find number of features\n",
    "        if line[0:6] == '#Label': #indicates end of features\n",
    "            break\n",
    "        if line[0:5] != '#Name':\n",
    "             numFeatures += 1\n",
    "    featureVals = []\n",
    "\n",
    "    #Produce featureVals, speciesNames, and labelList\n",
    "    featureVals, speciesNames, labelList = [], [], []\n",
    "    for i in range(numFeatures):\n",
    "        featureVals.append([])\n",
    "\n",
    "    #Continue processing lines in file, starting after comments\n",
    "    for line in dataFile:\n",
    "        #remove newline, then split\n",
    "        dataLine = line[:-1].split(',')\n",
    "        speciesNames.append(dataLine[0])\n",
    "        classLabel = dataLine[-1]\n",
    "        labelList.append(classLabel)\n",
    "        for i in range(numFeatures):\n",
    "            featureVals[i].append(float(dataLine[i+1]))\n",
    "\n",
    "    #Use featureVals to build list containing the feature vectors\n",
    "    #for each mammal\n",
    "    featureVectorList = []\n",
    "    for mammal in range(len(speciesNames)):\n",
    "        featureVector = []\n",
    "        for feature in range(numFeatures):\n",
    "            featureVector.append(featureVals[feature][mammal])\n",
    "            featureVectorList.append(featureVector)\n",
    "    return featureVectorList, labelList, speciesNames"
   ]
  },
  {
   "cell_type": "markdown",
   "metadata": {},
   "source": [
    "Reading the data and checking if it actually worked."
   ]
  },
  {
   "cell_type": "code",
   "execution_count": 113,
   "metadata": {},
   "outputs": [
    {
     "name": "stdout",
     "output_type": "stream",
     "text": [
      "[3.0, 1.0, 3.0, 1.0, 3.0, 1.0, 3.0, 2.0, 10.0]\n",
      "1\n",
      "Badger\n"
     ]
    }
   ],
   "source": [
    "features,labels,species = readMammalData(\"dentalFormulas.txt\")\n",
    "\n",
    "# check if it worked\n",
    "print(features[0])\n",
    "print(labels[0])\n",
    "print(species[0])"
   ]
  },
  {
   "cell_type": "markdown",
   "metadata": {},
   "source": [
    "The KMC algorithm as introduced doesn't work with 3 lists and we need to further process the data into an example structure."
   ]
  },
  {
   "cell_type": "code",
   "execution_count": 114,
   "metadata": {},
   "outputs": [],
   "source": [
    "def buildMammalExamples(featureList, labelList, speciesNames):\n",
    "    examples = []\n",
    "    for i in range(len(speciesNames)):\n",
    "        features = pylab.array(featureList[i])\n",
    "        example = Example(speciesNames[i], features, labelList[i])\n",
    "        examples.append(example)\n",
    "    return examples"
   ]
  },
  {
   "cell_type": "markdown",
   "metadata": {},
   "source": [
    "Function call and test"
   ]
  },
  {
   "cell_type": "code",
   "execution_count": 115,
   "metadata": {},
   "outputs": [
    {
     "name": "stdout",
     "output_type": "stream",
     "text": [
      "[ 3.  1.  3.  1.  3.  1.  3.  2. 10.]\n",
      "1\n",
      "Badger\n"
     ]
    }
   ],
   "source": [
    "# call\n",
    "examples = buildMammalExamples(features, labels,species)\n",
    "\n",
    "# test\n",
    "print(examples[0].features)\n",
    "print(examples[0].label)\n",
    "print(examples[0].name)"
   ]
  },
  {
   "cell_type": "markdown",
   "metadata": {},
   "source": [
    "Now we merge this with the KMC algorithm and some text output in a single funtion to allow for easy playing around."
   ]
  },
  {
   "cell_type": "code",
   "execution_count": 118,
   "metadata": {},
   "outputs": [],
   "source": [
    "def testTeeth(numClusters, numTrials):\n",
    "    features, labels, species = readMammalData('dentalFormulas.txt')\n",
    "    examples = buildMammalExamples(features, labels, species)\n",
    "    bestClustering = trykmeans(examples, numClusters, numTrials)\n",
    "    for c in bestClustering:\n",
    "        names = ''\n",
    "        for p in c.members():\n",
    "            names += p.getName() + ', '\n",
    "        print('\\n' + names[:-2]) #remove trailing comma and space\n",
    "        herbivores, carnivores, omnivores = 0, 0, 0\n",
    "        for p in c.members():\n",
    "            if p.getLabel() == '0':\n",
    "                herbivores += 1\n",
    "            elif p.getLabel() == '1':\n",
    "                carnivores += 1\n",
    "            else:\n",
    "                omnivores += 1\n",
    "        print(herbivores, 'herbivores,', carnivores, 'carnivores,',omnivores, 'omnivores')"
   ]
  },
  {
   "cell_type": "markdown",
   "metadata": {},
   "source": [
    "Since our goal is to cluster for the 3 kinds of eating habits (carni, herbi and omni), so we intuitively try numClusters=3. \\\n",
    "Note: Some seeds will lead to an error due to empty clusters. If that happens just try a different one"
   ]
  },
  {
   "cell_type": "code",
   "execution_count": 119,
   "metadata": {},
   "outputs": [
    {
     "name": "stdout",
     "output_type": "stream",
     "text": [
      "\n",
      "Elk, Fox, Fur seal, Grey seal, Guinea pig, Human, Jaguar, Kangaroo, Lion\n",
      "3 herbivores, 5 carnivores, 1 omnivores\n",
      "\n",
      "Badger, Bear, Beaver, Brown bat, Cat, Cougar, Cow, Deer, Dog, Red bat, Sea lion, Skunk, Squirrel, Wolf, Woodchuck\n",
      "3 herbivores, 8 carnivores, 4 omnivores\n",
      "\n",
      "Mink, Mole, Moose, Mouse, Pig, Porcupine, Rabbit, Raccoon, Rat\n",
      "3 herbivores, 2 carnivores, 4 omnivores\n"
     ]
    }
   ],
   "source": [
    "random.seed(3)\n",
    "testTeeth(3,40)"
   ]
  },
  {
   "cell_type": "markdown",
   "metadata": {},
   "source": [
    "We clearly see that the clustering didn't work as intended. On first sight we have 3 Herbis in each cluster and the rest is spread over the clusters. \\\n",
    "Taking a closer look, we see that there is a similarity between some of the animals in a cluster. The animals are clustered into weight classes, because the weight feature has a bigger range than the actual dental formulas. \\\n",
    "-----------The End---------- \\\n",
    "Guttag offers some approaches to solve the problem above, the following code is given for the sake of completeness. For explanation, see p.399 ff. in the Guttag text."
   ]
  },
  {
   "cell_type": "code",
   "execution_count": 69,
   "metadata": {},
   "outputs": [],
   "source": [
    "def zScaleFeatures(vals):\n",
    "    \"\"\"Assumes vals is a sequence of floats\"\"\"\n",
    "    result = pylab.array(vals)\n",
    "    mean = sum(result)/len(result)\n",
    "    result = result - mean\n",
    "    return result/np.std(result)"
   ]
  },
  {
   "cell_type": "code",
   "execution_count": 70,
   "metadata": {},
   "outputs": [],
   "source": [
    "def iScaleFeatures(vals):\n",
    "    \"\"\"Assumes vals is a sequence of floats\"\"\"\n",
    "    minVal, maxVal = min(vals), max(vals)\n",
    "    fit = pylab.polyfit([minVal, maxVal], [0, 1], 1)\n",
    "    return pylab.polyval(fit, vals)"
   ]
  },
  {
   "cell_type": "markdown",
   "metadata": {},
   "source": [
    "Note: The following functions are named differently than the ones in Guttag to not overwrite our previous ones. "
   ]
  },
  {
   "cell_type": "code",
   "execution_count": 71,
   "metadata": {},
   "outputs": [],
   "source": [
    "def readMammalData2(fName, scale):\n",
    "    dataFile = open(fName, 'r')\n",
    "    numFeatures = 0\n",
    "    #Process lines at top of file\n",
    "    for line in dataFile: #Find number of features\n",
    "        if line[0:6] == '#Label': #indicates end of features\n",
    "            break\n",
    "        if line[0:5] != '#Name':\n",
    "             numFeatures += 1\n",
    "    featureVals = []\n",
    "\n",
    "    #Produce featureVals, speciesNames, and labelList\n",
    "    featureVals, speciesNames, labelList = [], [], []\n",
    "    for i in range(numFeatures):\n",
    "        featureVals.append([])\n",
    "\n",
    "    #Continue processing lines in file, starting after comments\n",
    "    for line in dataFile:\n",
    "        #remove newline, then split\n",
    "        dataLine = line[:-1].split(',')\n",
    "        speciesNames.append(dataLine[0])\n",
    "        classLabel = dataLine[-1]\n",
    "        labelList.append(classLabel)\n",
    "        for i in range(numFeatures):\n",
    "            featureVals[i].append(float(dataLine[i+1]))\n",
    "\n",
    "    #Use featureVals to build list containing the feature vectors\n",
    "    #for each mammal, scaling features as indicated\n",
    "    for i in range(numFeatures):\n",
    "        featureVals[i] = scale(featureVals[i])\n",
    "    featureVectorList = []\n",
    "    for mammal in range(len(speciesNames)):\n",
    "        featureVector = []\n",
    "        for feature in range(numFeatures):\n",
    "            featureVector.append(featureVals[feature][mammal])\n",
    "        featureVectorList.append(featureVector)\n",
    "    return featureVectorList, labelList, speciesNames"
   ]
  },
  {
   "cell_type": "code",
   "execution_count": 72,
   "metadata": {},
   "outputs": [],
   "source": [
    "def testTeeth2(numClusters, numTrials, scale = lambda x: x):\n",
    "    features, labels, species = readMammalData2('dentalFormulas.txt', scale)\n",
    "    examples = buildMammalExamples(features, labels, species)\n",
    "    bestClustering = trykmeans(examples, numClusters, numTrials)\n",
    "    for c in bestClustering:\n",
    "        names = ''\n",
    "        for p in c.members():\n",
    "            names += p.getName() + ', '\n",
    "        print('\\n' + names[:-2]) #remove trailing comma and space\n",
    "        herbivores, carnivores, omnivores = 0, 0, 0\n",
    "        for p in c.members():\n",
    "            if p.getLabel() == '0':\n",
    "                herbivores += 1\n",
    "            elif p.getLabel() == '1':\n",
    "                carnivores += 1\n",
    "            else:\n",
    "                omnivores += 1\n",
    "        print(herbivores, 'herbivores,', carnivores, 'carnivores,',omnivores, 'omnivores')"
   ]
  },
  {
   "cell_type": "code",
   "execution_count": 61,
   "metadata": {},
   "outputs": [
    {
     "name": "stdout",
     "output_type": "stream",
     "text": [
      "Clustering without scaling\n",
      "\n",
      "Moose\n",
      "1 herbivores, 0 carnivores, 0 omnivores\n",
      "\n",
      "Bear, Cow, Deer, Elk, Fur seal, Grey seal, Lion, Sea lion\n",
      "3 herbivores, 4 carnivores, 1 omnivores\n",
      "\n",
      "Badger, Beaver, Brown bat, Cat, Cougar, Dog, Fox, Guinea pig, Human, Jaguar, Kangaroo, Mink, Mole, Mouse, Pig, Porcupine, Rabbit, Raccoon, Rat, Red bat, Skunk, Squirrel, Wolf, Woodchuck\n",
      "5 herbivores, 11 carnivores, 8 omnivores\n",
      "\n",
      "---------*---------*---------*---------*---------*---------\n",
      "\n",
      "Clustering with z-scaling\n",
      "\n",
      "Badger, Bear, Brown bat, Cat, Cougar, Dog, Fox, Fur seal, Grey seal, Human, Jaguar, Lion, Mink, Mole, Pig, Raccoon, Red bat, Sea lion, Skunk, Wolf\n",
      "0 herbivores, 15 carnivores, 5 omnivores\n",
      "\n",
      "Beaver, Guinea pig, Kangaroo, Mouse, Porcupine, Rabbit, Rat, Squirrel, Woodchuck\n",
      "5 herbivores, 0 carnivores, 4 omnivores\n",
      "\n",
      "Cow, Deer, Elk, Moose\n",
      "4 herbivores, 0 carnivores, 0 omnivores\n",
      "\n",
      "---------*---------*---------*---------*---------*---------\n",
      "\n",
      "Clustering with i-scaling\n",
      "\n",
      "Beaver, Guinea pig, Kangaroo, Mouse, Porcupine, Rabbit, Rat, Squirrel, Woodchuck\n",
      "5 herbivores, 0 carnivores, 4 omnivores\n",
      "\n",
      "Cow, Deer, Elk, Moose\n",
      "4 herbivores, 0 carnivores, 0 omnivores\n",
      "\n",
      "Badger, Bear, Brown bat, Cat, Cougar, Dog, Fox, Fur seal, Grey seal, Human, Jaguar, Lion, Mink, Mole, Pig, Raccoon, Red bat, Sea lion, Skunk, Wolf\n",
      "0 herbivores, 15 carnivores, 5 omnivores\n"
     ]
    }
   ],
   "source": [
    "random.seed(0) #so two clusterings starts with same seed\n",
    "print('Clustering without scaling')\n",
    "testTeeth2(3, 40)\n",
    "random.seed(0) #so two clusterings starts with same seed\n",
    "print('\\n---------*---------*---------*---------*---------*---------')\n",
    "print('\\nClustering with z-scaling')\n",
    "testTeeth2(3, 40, zScaleFeatures)\n",
    "print('\\n---------*---------*---------*---------*---------*---------')\n",
    "print('\\nClustering with i-scaling')\n",
    "testTeeth2(3, 40, iScaleFeatures)"
   ]
  },
  {
   "cell_type": "code",
   "execution_count": null,
   "metadata": {},
   "outputs": [],
   "source": []
  }
 ],
 "metadata": {
  "kernelspec": {
   "display_name": "Python 3 (ipykernel)",
   "language": "python",
   "name": "python3"
  },
  "language_info": {
   "codemirror_mode": {
    "name": "ipython",
    "version": 3
   },
   "file_extension": ".py",
   "mimetype": "text/x-python",
   "name": "python",
   "nbconvert_exporter": "python",
   "pygments_lexer": "ipython3",
   "version": "3.10.6"
  }
 },
 "nbformat": 4,
 "nbformat_minor": 4
}
